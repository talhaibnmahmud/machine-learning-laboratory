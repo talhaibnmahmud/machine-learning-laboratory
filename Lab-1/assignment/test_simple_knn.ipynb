{
 "cells": [
  {
   "cell_type": "markdown",
   "metadata": {},
   "source": [
    "# A Simple KNN implementation in Python"
   ]
  },
  {
   "cell_type": "code",
   "execution_count": 35,
   "metadata": {},
   "outputs": [],
   "source": [
    "import matplotlib.pyplot as plt\n",
    "import numpy as np\n",
    "import pandas as pd\n",
    "\n",
    "from sklearn.datasets import load_iris\n",
    "from sklearn.metrics import accuracy_score\n",
    "from sklearn.model_selection import train_test_split\n",
    "\n",
    "from knn import SimpleKNN"
   ]
  },
  {
   "cell_type": "code",
   "execution_count": 36,
   "metadata": {},
   "outputs": [],
   "source": [
    "iris_data = load_iris()\n",
    "\n",
    "data, targets = pd.DataFrame(iris_data.data, columns=iris_data.feature_names), pd.Series(iris_data.target, name='species')\n",
    "# print(iris_data)"
   ]
  },
  {
   "cell_type": "code",
   "execution_count": 37,
   "metadata": {},
   "outputs": [
    {
     "data": {
      "text/html": [
       "<div>\n",
       "<style scoped>\n",
       "    .dataframe tbody tr th:only-of-type {\n",
       "        vertical-align: middle;\n",
       "    }\n",
       "\n",
       "    .dataframe tbody tr th {\n",
       "        vertical-align: top;\n",
       "    }\n",
       "\n",
       "    .dataframe thead th {\n",
       "        text-align: right;\n",
       "    }\n",
       "</style>\n",
       "<table border=\"1\" class=\"dataframe\">\n",
       "  <thead>\n",
       "    <tr style=\"text-align: right;\">\n",
       "      <th></th>\n",
       "      <th>sepal length (cm)</th>\n",
       "      <th>sepal width (cm)</th>\n",
       "      <th>petal length (cm)</th>\n",
       "      <th>petal width (cm)</th>\n",
       "    </tr>\n",
       "  </thead>\n",
       "  <tbody>\n",
       "    <tr>\n",
       "      <th>0</th>\n",
       "      <td>5.1</td>\n",
       "      <td>3.5</td>\n",
       "      <td>1.4</td>\n",
       "      <td>0.2</td>\n",
       "    </tr>\n",
       "    <tr>\n",
       "      <th>1</th>\n",
       "      <td>4.9</td>\n",
       "      <td>3.0</td>\n",
       "      <td>1.4</td>\n",
       "      <td>0.2</td>\n",
       "    </tr>\n",
       "    <tr>\n",
       "      <th>2</th>\n",
       "      <td>4.7</td>\n",
       "      <td>3.2</td>\n",
       "      <td>1.3</td>\n",
       "      <td>0.2</td>\n",
       "    </tr>\n",
       "    <tr>\n",
       "      <th>3</th>\n",
       "      <td>4.6</td>\n",
       "      <td>3.1</td>\n",
       "      <td>1.5</td>\n",
       "      <td>0.2</td>\n",
       "    </tr>\n",
       "    <tr>\n",
       "      <th>4</th>\n",
       "      <td>5.0</td>\n",
       "      <td>3.6</td>\n",
       "      <td>1.4</td>\n",
       "      <td>0.2</td>\n",
       "    </tr>\n",
       "  </tbody>\n",
       "</table>\n",
       "</div>"
      ],
      "text/plain": [
       "   sepal length (cm)  sepal width (cm)  petal length (cm)  petal width (cm)\n",
       "0                5.1               3.5                1.4               0.2\n",
       "1                4.9               3.0                1.4               0.2\n",
       "2                4.7               3.2                1.3               0.2\n",
       "3                4.6               3.1                1.5               0.2\n",
       "4                5.0               3.6                1.4               0.2"
      ]
     },
     "execution_count": 37,
     "metadata": {},
     "output_type": "execute_result"
    }
   ],
   "source": [
    "data.head()"
   ]
  },
  {
   "cell_type": "code",
   "execution_count": 38,
   "metadata": {},
   "outputs": [
    {
     "data": {
      "text/plain": [
       "0    0\n",
       "1    0\n",
       "2    0\n",
       "3    0\n",
       "4    0\n",
       "Name: species, dtype: int32"
      ]
     },
     "execution_count": 38,
     "metadata": {},
     "output_type": "execute_result"
    }
   ],
   "source": [
    "targets.head()"
   ]
  },
  {
   "cell_type": "code",
   "execution_count": 39,
   "metadata": {},
   "outputs": [
    {
     "data": {
      "image/png": "[encoded data removed]",
      "text/plain": [
       "<Figure size 864x432 with 1 Axes>"
      ]
     },
     "metadata": {
      "needs_background": "light"
     },
     "output_type": "display_data"
    }
   ],
   "source": [
    "plt.figure(figsize=(12, 6))\n",
    "plt.scatter(iris_data.data[:, 0], iris_data.data[:, 1], c=iris_data.target)\n",
    "plt.title(\"Iris data\")\n",
    "plt.show()"
   ]
  },
  {
   "cell_type": "code",
   "execution_count": 40,
   "metadata": {},
   "outputs": [],
   "source": [
    "x_train, x_test, y_train, y_test = train_test_split(iris_data.data, iris_data.target, test_size=0.2, random_state=42)"
   ]
  },
  {
   "cell_type": "code",
   "execution_count": 41,
   "metadata": {},
   "outputs": [],
   "source": [
    "knn = SimpleKNN(n_neighbors=3)\n",
    "knn.fit(x_train, y_train)"
   ]
  },
  {
   "cell_type": "code",
   "execution_count": 42,
   "metadata": {},
   "outputs": [
    {
     "name": "stdout",
     "output_type": "stream",
     "text": [
      "Predictions:  [1 0 2 1 1 0 1 2 1 1 2 0 0 0 0 1 2 1 1 2 0 2 0 2 2 2 2 2 0 0]\n",
      "Accuracy:  1.0\n"
     ]
    }
   ],
   "source": [
    "predictions = knn.predict(x_test)\n",
    "\n",
    "print(\"Predictions: \", predictions)\n",
    "print(\"Accuracy: \", accuracy_score(y_test, predictions))"
   ]
  },
  {
   "cell_type": "code",
   "execution_count": 43,
   "metadata": {},
   "outputs": [
    {
     "name": "stdout",
     "output_type": "stream",
     "text": [
      "Error rate for K=01 : 0.00%\n",
      "Error rate for K=02 : 0.00%\n",
      "Error rate for K=03 : 0.00%\n",
      "Error rate for K=04 : 0.00%\n",
      "Error rate for K=05 : 0.00%\n",
      "Error rate for K=06 : 0.00%\n",
      "Error rate for K=07 : 3.33%\n",
      "Error rate for K=08 : 0.00%\n",
      "Error rate for K=09 : 0.00%\n",
      "Error rate for K=10 : 0.00%\n",
      "Error rate for K=11 : 0.00%\n",
      "Error rate for K=12 : 0.00%\n",
      "Error rate for K=13 : 0.00%\n",
      "Error rate for K=14 : 0.00%\n",
      "Error rate for K=15 : 0.00%\n",
      "Error rate for K=16 : 0.00%\n",
      "Error rate for K=17 : 0.00%\n",
      "Error rate for K=18 : 0.00%\n",
      "Error rate for K=19 : 0.00%\n",
      "Error rate for K=20 : 0.00%\n",
      "Error rate for K=21 : 0.00%\n",
      "Error rate for K=22 : 0.00%\n",
      "Error rate for K=23 : 0.00%\n",
      "Error rate for K=24 : 0.00%\n",
      "Error rate for K=25 : 0.00%\n",
      "Error rate for K=26 : 0.00%\n",
      "Error rate for K=27 : 0.00%\n",
      "Error rate for K=28 : 0.00%\n",
      "Error rate for K=29 : 0.00%\n",
      "Error rate for K=30 : 0.00%\n",
      "Error rate for K=31 : 0.00%\n",
      "Error rate for K=32 : 0.00%\n",
      "Error rate for K=33 : 0.00%\n",
      "Error rate for K=34 : 0.00%\n",
      "Error rate for K=35 : 0.00%\n",
      "Error rate for K=36 : 0.00%\n",
      "Error rate for K=37 : 0.00%\n",
      "Error rate for K=38 : 0.00%\n",
      "Error rate for K=39 : 0.00%\n"
     ]
    }
   ],
   "source": [
    "# Error Analysis for different K values\n",
    "error_rate = []\n",
    "\n",
    "# Calculating error for K values between 1 and 40\n",
    "for i in range(1, 40):\n",
    "    knn = SimpleKNN(n_neighbors=i)\n",
    "    knn.fit(x_train, y_train)\n",
    "    pred_i = knn.predict(x_test)\n",
    "    error_rate.append(np.mean(pred_i != y_test))\n",
    "    print(f'Error rate for K={i:02} : {(error_rate[i - 1] * 100):.2f}%')"
   ]
  },
  {
   "cell_type": "code",
   "execution_count": 44,
   "metadata": {},
   "outputs": [
    {
     "data": {
      "image/png": "[encoded data removed]",
      "text/plain": [
       "<Figure size 864x432 with 1 Axes>"
      ]
     },
     "metadata": {
      "needs_background": "light"
     },
     "output_type": "display_data"
    }
   ],
   "source": [
    "# Visualizing Error Rate vs K Value for KNN using matplotlib\n",
    "plt.figure(figsize=(12, 6))\n",
    "plt.plot(\n",
    "    range(1, 40), \n",
    "    error_rate, \n",
    "    color='#0000FF',\n",
    "    linestyle='dashed', \n",
    "    marker='o', \n",
    "    markerfacecolor='#FF0000', \n",
    "    markersize=10\n",
    ")\n",
    "plt.title('Error Rate vs. K Value')\n",
    "plt.xlabel('K Values')\n",
    "plt.ylabel('Error Rate')\n",
    "plt.show()"
   ]
  }
 ],
 "metadata": {
  "interpreter": {
   "hash": "7c2dfea8bdac82932b486080548509e20184890dcb719f0d41083dd8f748bcb4"
  },
  "kernelspec": {
   "display_name": "Python 3.10.3 ('venv': venv)",
   "language": "python",
   "name": "python3"
  },
  "language_info": {
   "codemirror_mode": {
    "name": "ipython",
    "version": 3
   },
   "file_extension": ".py",
   "mimetype": "text/x-python",
   "name": "python",
   "nbconvert_exporter": "python",
   "pygments_lexer": "ipython3",
   "version": "3.10.3"
  },
  "orig_nbformat": 4
 },
 "nbformat": 4,
 "nbformat_minor": 2
}
